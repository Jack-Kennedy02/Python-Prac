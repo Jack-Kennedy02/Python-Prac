{
 "cells": [
  {
   "cell_type": "markdown",
   "metadata": {},
   "source": [
    "# We are going to be looking at Play vs. sleep in white cats and in black cats.\n",
    "\n",
    "# Does the breed affect the play vs. sleep time? What's the relationship?"
   ]
  },
  {
   "cell_type": "code",
   "execution_count": 1,
   "metadata": {},
   "outputs": [],
   "source": [
    "import ast\n",
    "import seaborn as sns\n",
    "import matplotlib.pyplot as plt\n",
    "import pandas as pd\n",
    "import numpy as np"
   ]
  },
  {
   "cell_type": "code",
   "execution_count": 2,
   "metadata": {},
   "outputs": [],
   "source": [
    "df = pd.read_csv('cleaned_data.csv')"
   ]
  },
  {
   "cell_type": "code",
   "execution_count": 3,
   "metadata": {},
   "outputs": [
    {
     "data": {
      "text/html": [
       "<div>\n",
       "<style scoped>\n",
       "    .dataframe tbody tr th:only-of-type {\n",
       "        vertical-align: middle;\n",
       "    }\n",
       "\n",
       "    .dataframe tbody tr th {\n",
       "        vertical-align: top;\n",
       "    }\n",
       "\n",
       "    .dataframe thead th {\n",
       "        text-align: right;\n",
       "    }\n",
       "</style>\n",
       "<table border=\"1\" class=\"dataframe\">\n",
       "  <thead>\n",
       "    <tr style=\"text-align: right;\">\n",
       "      <th></th>\n",
       "      <th>Breed</th>\n",
       "      <th>Age_in_years</th>\n",
       "      <th>Age_in_months</th>\n",
       "      <th>Gender</th>\n",
       "      <th>Neutered_or_spayed</th>\n",
       "      <th>Body_length</th>\n",
       "      <th>Weight</th>\n",
       "      <th>Fur_colour_dominant</th>\n",
       "      <th>Fur_pattern</th>\n",
       "      <th>Eye_colour</th>\n",
       "      <th>Allowed_outdoor</th>\n",
       "      <th>Preferred_food</th>\n",
       "      <th>Owner_play_time_minutes</th>\n",
       "      <th>Sleep_time_hours</th>\n",
       "      <th>Country</th>\n",
       "      <th>Latitude</th>\n",
       "      <th>Longitude</th>\n",
       "    </tr>\n",
       "  </thead>\n",
       "  <tbody>\n",
       "    <tr>\n",
       "      <th>715</th>\n",
       "      <td>Angora</td>\n",
       "      <td>3.25</td>\n",
       "      <td>39.0</td>\n",
       "      <td>male</td>\n",
       "      <td>False</td>\n",
       "      <td>40.0</td>\n",
       "      <td>4.5</td>\n",
       "      <td>black</td>\n",
       "      <td>bicolor</td>\n",
       "      <td>blue</td>\n",
       "      <td>FALSE</td>\n",
       "      <td>wet</td>\n",
       "      <td>12.0</td>\n",
       "      <td>16.0</td>\n",
       "      <td>USA</td>\n",
       "      <td>47.606210</td>\n",
       "      <td>-122.332070</td>\n",
       "    </tr>\n",
       "    <tr>\n",
       "      <th>716</th>\n",
       "      <td>Angora</td>\n",
       "      <td>3.42</td>\n",
       "      <td>41.0</td>\n",
       "      <td>male</td>\n",
       "      <td>True</td>\n",
       "      <td>41.0</td>\n",
       "      <td>4.4</td>\n",
       "      <td>white</td>\n",
       "      <td>solid</td>\n",
       "      <td>amber</td>\n",
       "      <td>FALSE</td>\n",
       "      <td>dry</td>\n",
       "      <td>24.0</td>\n",
       "      <td>17.0</td>\n",
       "      <td>USA</td>\n",
       "      <td>45.523450</td>\n",
       "      <td>-122.676210</td>\n",
       "    </tr>\n",
       "    <tr>\n",
       "      <th>717</th>\n",
       "      <td>Angora</td>\n",
       "      <td>3.50</td>\n",
       "      <td>42.0</td>\n",
       "      <td>male</td>\n",
       "      <td>True</td>\n",
       "      <td>39.0</td>\n",
       "      <td>4.8</td>\n",
       "      <td>black</td>\n",
       "      <td>solid</td>\n",
       "      <td>blue</td>\n",
       "      <td>FALSE</td>\n",
       "      <td>wet</td>\n",
       "      <td>15.0</td>\n",
       "      <td>16.0</td>\n",
       "      <td>USA</td>\n",
       "      <td>45.523450</td>\n",
       "      <td>-122.676210</td>\n",
       "    </tr>\n",
       "    <tr>\n",
       "      <th>718</th>\n",
       "      <td>Angora</td>\n",
       "      <td>3.58</td>\n",
       "      <td>43.0</td>\n",
       "      <td>female</td>\n",
       "      <td>True</td>\n",
       "      <td>34.0</td>\n",
       "      <td>3.3</td>\n",
       "      <td>white</td>\n",
       "      <td>solid</td>\n",
       "      <td>blue</td>\n",
       "      <td>FALSE</td>\n",
       "      <td>wet</td>\n",
       "      <td>20.0</td>\n",
       "      <td>14.0</td>\n",
       "      <td>USA</td>\n",
       "      <td>41.881832</td>\n",
       "      <td>-87.623177</td>\n",
       "    </tr>\n",
       "    <tr>\n",
       "      <th>719</th>\n",
       "      <td>Angora</td>\n",
       "      <td>3.67</td>\n",
       "      <td>44.0</td>\n",
       "      <td>male</td>\n",
       "      <td>False</td>\n",
       "      <td>39.0</td>\n",
       "      <td>4.5</td>\n",
       "      <td>white</td>\n",
       "      <td>solid</td>\n",
       "      <td>amber</td>\n",
       "      <td>FALSE</td>\n",
       "      <td>wet</td>\n",
       "      <td>23.0</td>\n",
       "      <td>14.0</td>\n",
       "      <td>USA</td>\n",
       "      <td>47.606210</td>\n",
       "      <td>-122.332070</td>\n",
       "    </tr>\n",
       "    <tr>\n",
       "      <th>720</th>\n",
       "      <td>Angora</td>\n",
       "      <td>3.67</td>\n",
       "      <td>44.0</td>\n",
       "      <td>male</td>\n",
       "      <td>False</td>\n",
       "      <td>37.0</td>\n",
       "      <td>4.6</td>\n",
       "      <td>white</td>\n",
       "      <td>solid</td>\n",
       "      <td>amber</td>\n",
       "      <td>FALSE</td>\n",
       "      <td>wet</td>\n",
       "      <td>32.0</td>\n",
       "      <td>14.0</td>\n",
       "      <td>France</td>\n",
       "      <td>43.611660</td>\n",
       "      <td>3.877710</td>\n",
       "    </tr>\n",
       "    <tr>\n",
       "      <th>721</th>\n",
       "      <td>Angora</td>\n",
       "      <td>3.75</td>\n",
       "      <td>45.0</td>\n",
       "      <td>male</td>\n",
       "      <td>True</td>\n",
       "      <td>43.0</td>\n",
       "      <td>3.9</td>\n",
       "      <td>white</td>\n",
       "      <td>solid</td>\n",
       "      <td>blue</td>\n",
       "      <td>FALSE</td>\n",
       "      <td>wet</td>\n",
       "      <td>38.0</td>\n",
       "      <td>14.0</td>\n",
       "      <td>USA</td>\n",
       "      <td>39.290380</td>\n",
       "      <td>-76.612190</td>\n",
       "    </tr>\n",
       "    <tr>\n",
       "      <th>722</th>\n",
       "      <td>Angora</td>\n",
       "      <td>3.83</td>\n",
       "      <td>46.0</td>\n",
       "      <td>male</td>\n",
       "      <td>False</td>\n",
       "      <td>37.0</td>\n",
       "      <td>4.1</td>\n",
       "      <td>white</td>\n",
       "      <td>solid</td>\n",
       "      <td>green</td>\n",
       "      <td>FALSE</td>\n",
       "      <td>wet</td>\n",
       "      <td>38.0</td>\n",
       "      <td>16.0</td>\n",
       "      <td>USA</td>\n",
       "      <td>38.895110</td>\n",
       "      <td>-77.036370</td>\n",
       "    </tr>\n",
       "    <tr>\n",
       "      <th>723</th>\n",
       "      <td>Angora</td>\n",
       "      <td>3.83</td>\n",
       "      <td>46.0</td>\n",
       "      <td>male</td>\n",
       "      <td>True</td>\n",
       "      <td>40.0</td>\n",
       "      <td>4.8</td>\n",
       "      <td>black</td>\n",
       "      <td>bicolor</td>\n",
       "      <td>amber</td>\n",
       "      <td>TRUE</td>\n",
       "      <td>wet</td>\n",
       "      <td>11.0</td>\n",
       "      <td>15.0</td>\n",
       "      <td>USA</td>\n",
       "      <td>40.714270</td>\n",
       "      <td>-74.005970</td>\n",
       "    </tr>\n",
       "    <tr>\n",
       "      <th>724</th>\n",
       "      <td>Angora</td>\n",
       "      <td>4.17</td>\n",
       "      <td>50.0</td>\n",
       "      <td>female</td>\n",
       "      <td>True</td>\n",
       "      <td>35.0</td>\n",
       "      <td>2.8</td>\n",
       "      <td>white</td>\n",
       "      <td>solid</td>\n",
       "      <td>amber</td>\n",
       "      <td>TRUE</td>\n",
       "      <td>dry</td>\n",
       "      <td>28.0</td>\n",
       "      <td>14.0</td>\n",
       "      <td>USA</td>\n",
       "      <td>45.523450</td>\n",
       "      <td>-122.676210</td>\n",
       "    </tr>\n",
       "  </tbody>\n",
       "</table>\n",
       "</div>"
      ],
      "text/plain": [
       "      Breed  Age_in_years  Age_in_months  Gender  Neutered_or_spayed  \\\n",
       "715  Angora          3.25           39.0    male               False   \n",
       "716  Angora          3.42           41.0    male                True   \n",
       "717  Angora          3.50           42.0    male                True   \n",
       "718  Angora          3.58           43.0  female                True   \n",
       "719  Angora          3.67           44.0    male               False   \n",
       "720  Angora          3.67           44.0    male               False   \n",
       "721  Angora          3.75           45.0    male                True   \n",
       "722  Angora          3.83           46.0    male               False   \n",
       "723  Angora          3.83           46.0    male                True   \n",
       "724  Angora          4.17           50.0  female                True   \n",
       "\n",
       "     Body_length  Weight Fur_colour_dominant Fur_pattern Eye_colour  \\\n",
       "715         40.0     4.5               black     bicolor       blue   \n",
       "716         41.0     4.4               white       solid      amber   \n",
       "717         39.0     4.8               black       solid       blue   \n",
       "718         34.0     3.3               white       solid       blue   \n",
       "719         39.0     4.5               white       solid      amber   \n",
       "720         37.0     4.6               white       solid      amber   \n",
       "721         43.0     3.9               white       solid       blue   \n",
       "722         37.0     4.1               white       solid      green   \n",
       "723         40.0     4.8               black     bicolor      amber   \n",
       "724         35.0     2.8               white       solid      amber   \n",
       "\n",
       "    Allowed_outdoor Preferred_food  Owner_play_time_minutes  Sleep_time_hours  \\\n",
       "715           FALSE            wet                     12.0              16.0   \n",
       "716           FALSE            dry                     24.0              17.0   \n",
       "717           FALSE            wet                     15.0              16.0   \n",
       "718           FALSE            wet                     20.0              14.0   \n",
       "719           FALSE            wet                     23.0              14.0   \n",
       "720           FALSE            wet                     32.0              14.0   \n",
       "721           FALSE            wet                     38.0              14.0   \n",
       "722           FALSE            wet                     38.0              16.0   \n",
       "723            TRUE            wet                     11.0              15.0   \n",
       "724            TRUE            dry                     28.0              14.0   \n",
       "\n",
       "    Country   Latitude   Longitude  \n",
       "715     USA  47.606210 -122.332070  \n",
       "716     USA  45.523450 -122.676210  \n",
       "717     USA  45.523450 -122.676210  \n",
       "718     USA  41.881832  -87.623177  \n",
       "719     USA  47.606210 -122.332070  \n",
       "720  France  43.611660    3.877710  \n",
       "721     USA  39.290380  -76.612190  \n",
       "722     USA  38.895110  -77.036370  \n",
       "723     USA  40.714270  -74.005970  \n",
       "724     USA  45.523450 -122.676210  "
      ]
     },
     "execution_count": 3,
     "metadata": {},
     "output_type": "execute_result"
    }
   ],
   "source": [
    "df.tail(10)"
   ]
  },
  {
   "cell_type": "code",
   "execution_count": 4,
   "metadata": {},
   "outputs": [
    {
     "data": {
      "text/plain": [
       "Fur_colour_dominant\n",
       "seal               219\n",
       "white              148\n",
       "black              142\n",
       "brown/chocolate    107\n",
       "red/cream          105\n",
       "lilac                4\n",
       "Name: count, dtype: int64"
      ]
     },
     "execution_count": 4,
     "metadata": {},
     "output_type": "execute_result"
    }
   ],
   "source": [
    "df['Fur_colour_dominant'].value_counts()\n"
   ]
  },
  {
   "cell_type": "markdown",
   "metadata": {},
   "source": [
    "# I learned through value counts you can discover how many cunts are for each value....."
   ]
  },
  {
   "cell_type": "code",
   "execution_count": 5,
   "metadata": {},
   "outputs": [],
   "source": [
    "df.rename(columns={'Owner_play_time_minutes': 'Play_Time', 'Sleep_time_hours': 'Sleep'}, inplace=True)\n"
   ]
  },
  {
   "cell_type": "code",
   "execution_count": 26,
   "metadata": {},
   "outputs": [],
   "source": [
    "breed_df = df[df['Fur_colour_dominant'].isin(['black', 'white', 'seal','brown/chocolate','red/cream'])]"
   ]
  },
  {
   "cell_type": "code",
   "execution_count": 28,
   "metadata": {},
   "outputs": [
    {
     "data": {
      "text/plain": [
       "Fur_colour_dominant\n",
       "seal               219\n",
       "white              148\n",
       "black              142\n",
       "brown/chocolate    107\n",
       "red/cream          105\n",
       "Name: count, dtype: int64"
      ]
     },
     "execution_count": 28,
     "metadata": {},
     "output_type": "execute_result"
    }
   ],
   "source": [
    "breed_df['Fur_colour_dominant'].value_counts()"
   ]
  },
  {
   "cell_type": "code",
   "execution_count": 7,
   "metadata": {},
   "outputs": [
    {
     "data": {
      "text/html": [
       "<div>\n",
       "<style scoped>\n",
       "    .dataframe tbody tr th:only-of-type {\n",
       "        vertical-align: middle;\n",
       "    }\n",
       "\n",
       "    .dataframe tbody tr th {\n",
       "        vertical-align: top;\n",
       "    }\n",
       "\n",
       "    .dataframe thead th {\n",
       "        text-align: right;\n",
       "    }\n",
       "</style>\n",
       "<table border=\"1\" class=\"dataframe\">\n",
       "  <thead>\n",
       "    <tr style=\"text-align: right;\">\n",
       "      <th></th>\n",
       "      <th>Play_Time</th>\n",
       "      <th>Sleep</th>\n",
       "    </tr>\n",
       "    <tr>\n",
       "      <th>Fur_colour_dominant</th>\n",
       "      <th></th>\n",
       "      <th></th>\n",
       "    </tr>\n",
       "  </thead>\n",
       "  <tbody>\n",
       "    <tr>\n",
       "      <th>black</th>\n",
       "      <td>22.711268</td>\n",
       "      <td>15.633803</td>\n",
       "    </tr>\n",
       "    <tr>\n",
       "      <th>brown/chocolate</th>\n",
       "      <td>20.934579</td>\n",
       "      <td>15.663551</td>\n",
       "    </tr>\n",
       "    <tr>\n",
       "      <th>red/cream</th>\n",
       "      <td>23.590476</td>\n",
       "      <td>16.333333</td>\n",
       "    </tr>\n",
       "    <tr>\n",
       "      <th>seal</th>\n",
       "      <td>19.858447</td>\n",
       "      <td>16.232877</td>\n",
       "    </tr>\n",
       "    <tr>\n",
       "      <th>white</th>\n",
       "      <td>25.810811</td>\n",
       "      <td>15.337838</td>\n",
       "    </tr>\n",
       "  </tbody>\n",
       "</table>\n",
       "</div>"
      ],
      "text/plain": [
       "                     Play_Time      Sleep\n",
       "Fur_colour_dominant                      \n",
       "black                22.711268  15.633803\n",
       "brown/chocolate      20.934579  15.663551\n",
       "red/cream            23.590476  16.333333\n",
       "seal                 19.858447  16.232877\n",
       "white                25.810811  15.337838"
      ]
     },
     "execution_count": 7,
     "metadata": {},
     "output_type": "execute_result"
    }
   ],
   "source": [
    "breed_group = breed_df.groupby('Fur_colour_dominant')[['Play_Time', 'Sleep']].mean()\n",
    "\n",
    "breed_group"
   ]
  },
  {
   "cell_type": "code",
   "execution_count": 12,
   "metadata": {},
   "outputs": [],
   "source": [
    "# Assuming your DataFrame is df, breed column is 'breed' and continuous variables are 'play_time' and 'sleep'\n",
    "# Melt your data to long form for easier plotting\n",
    "df_melted = df.melt(id_vars='Fur_colour_dominant', value_vars=['Play_Time', 'Sleep'], var_name='Fur Color', value_name='value')"
   ]
  },
  {
   "cell_type": "markdown",
   "metadata": {},
   "source": [
    "# I need to come back to this, they need to be two barcharts on two different graphs. since they have different units. One is in minutes one is in minutes one is in hours..."
   ]
  },
  {
   "cell_type": "code",
   "execution_count": 15,
   "metadata": {},
   "outputs": [
    {
     "data": {
      "image/png": "[encoded data removed]",
      "text/plain": [
       "<Figure size 1000x800 with 2 Axes>"
      ]
     },
     "metadata": {},
     "output_type": "display_data"
    }
   ],
   "source": [
    "fig, (ax1, ax2) = plt.subplots(2, 1, figsize=(10, 8), sharex=True)\n",
    "\n",
    "# Plot Play_Time\n",
    "breed_group['Play_Time'].plot(kind='bar', ax=ax1, color='skyblue')\n",
    "ax1.set_ylabel('Average Play Time')\n",
    "ax1.set_title('Average Play Time by Fur Colour')\n",
    "\n",
    "# Plot Sleep\n",
    "breed_group['Sleep'].plot(kind='bar', ax=ax2, color='lightgreen')\n",
    "ax2.set_ylabel('Average Sleep Time')\n",
    "ax2.set_title('Average Sleep Time by Fur Colour')\n",
    "\n",
    "# X-axis label only on bottom plot since they share x-axis\n",
    "ax2.set_xlabel('Fur Colour Dominant')\n",
    "ax2.set_xticklabels(ax2.get_xticklabels(), rotation=45, ha='right')\n",
    "\n",
    "plt.tight_layout()\n",
    "plt.show()\n",
    "\n"
   ]
  },
  {
   "cell_type": "code",
   "execution_count": 16,
   "metadata": {},
   "outputs": [
    {
     "name": "stderr",
     "output_type": "stream",
     "text": [
      "/var/folders/2z/6t6dl78d7b96q7xq1y4dzzw00000gn/T/ipykernel_2941/1789458728.py:3: FutureWarning: \n",
      "\n",
      "Passing `palette` without assigning `hue` is deprecated and will be removed in v0.14.0. Assign the `x` variable to `hue` and set `legend=False` for the same effect.\n",
      "\n",
      "  sns.boxplot(x='Fur_colour_dominant', y='Play_Time', data=breed_df, ax=ax3, palette='pastel')\n",
      "/var/folders/2z/6t6dl78d7b96q7xq1y4dzzw00000gn/T/ipykernel_2941/1789458728.py:7: FutureWarning: \n",
      "\n",
      "Passing `palette` without assigning `hue` is deprecated and will be removed in v0.14.0. Assign the `x` variable to `hue` and set `legend=False` for the same effect.\n",
      "\n",
      "  sns.boxplot(x='Fur_colour_dominant', y='Sleep', data=breed_df, ax=ax4, palette='pastel')\n"
     ]
    },
    {
     "data": {
      "image/png": "[encoded data removed]",
      "text/plain": [
       "<Figure size 1000x800 with 2 Axes>"
      ]
     },
     "metadata": {},
     "output_type": "display_data"
    }
   ],
   "source": [
    "fig, (ax3, ax4) = plt.subplots(2, 1, figsize=(10, 8), sharex=True)\n",
    "\n",
    "sns.boxplot(x='Fur_colour_dominant', y='Play_Time', data=breed_df, ax=ax3, palette='pastel')\n",
    "ax3.set_title('Play Time by Fur Colour')\n",
    "ax3.set_ylabel('Play Time')\n",
    "\n",
    "sns.boxplot(x='Fur_colour_dominant', y='Sleep', data=breed_df, ax=ax4, palette='pastel')\n",
    "ax4.set_title('Sleep by Fur Colour')\n",
    "ax4.set_ylabel('Sleep')\n",
    "ax4.set_xlabel('Fur Colour Dominant')\n",
    "\n",
    "plt.xticks(rotation=45)\n",
    "plt.tight_layout()\n",
    "plt.show()"
   ]
  },
  {
   "cell_type": "markdown",
   "metadata": {},
   "source": [
    "# Making sure there aren't any statistical differnences between the two."
   ]
  },
  {
   "cell_type": "code",
   "execution_count": 18,
   "metadata": {},
   "outputs": [
    {
     "name": "stdout",
     "output_type": "stream",
     "text": [
      "ANOVA result for Play Time by Fur Colour: F = -0.000, p = nan\n"
     ]
    }
   ],
   "source": [
    "import scipy.stats as stats\n",
    "\n",
    "# Extract groups for Play_Time based on Fur_colour_dominant\n",
    "groups_play = [breed_df['Play_Time'].values for name, group in breed_df.groupby('Fur_colour_dominant')]\n",
    "\n",
    "# Perform one-way ANOVA\n",
    "f_stat, p_val = stats.f_oneway(*groups_play)\n",
    "\n",
    "print(f\"ANOVA result for Play Time by Fur Colour: F = {f_stat:.3f}, p = {p_val:.4f}\")\n"
   ]
  },
  {
   "cell_type": "code",
   "execution_count": 19,
   "metadata": {},
   "outputs": [
    {
     "name": "stdout",
     "output_type": "stream",
     "text": [
      "black: size=142, variance=88.50469483568072\n",
      "brown/chocolate: size=107, variance=133.43907600070534\n",
      "red/cream: size=105, variance=129.1095238095238\n",
      "seal: size=219, variance=111.12207280800976\n",
      "white: size=148, variance=98.03199117484832\n"
     ]
    }
   ],
   "source": [
    "for name, group in breed_df.groupby('Fur_colour_dominant'):\n",
    "    print(f\"{name}: size={len(group)}, variance={group['Play_Time'].var()}\")\n"
   ]
  },
  {
   "cell_type": "code",
   "execution_count": 20,
   "metadata": {},
   "outputs": [],
   "source": [
    "groups_play = [group['Play_Time'].dropna().values for name, group in breed_df.groupby('Fur_colour_dominant')]"
   ]
  },
  {
   "cell_type": "markdown",
   "metadata": {},
   "source": [
    "# Got Error so checking variances and such"
   ]
  },
  {
   "cell_type": "code",
   "execution_count": 23,
   "metadata": {},
   "outputs": [
    {
     "name": "stdout",
     "output_type": "stream",
     "text": [
      "Kruskal-Wallis test for Play Time: H = 0.000, p = 1.0000\n"
     ]
    }
   ],
   "source": [
    "h_stat, p_val_kruskal = stats.kruskal(*groups_play)\n",
    "print(f\"Kruskal-Wallis test for Play Time: H = {h_stat:.3f}, p = {p_val_kruskal:.4f}\")"
   ]
  },
  {
   "cell_type": "markdown",
   "metadata": {},
   "source": [
    "# This confirms that the difference between the averages for fur color are not significantly significant. "
   ]
  },
  {
   "cell_type": "code",
   "execution_count": 24,
   "metadata": {},
   "outputs": [
    {
     "name": "stdout",
     "output_type": "stream",
     "text": [
      "Kruskal-Wallis test for Sleep: H = 14.016, p = 0.0072\n"
     ]
    }
   ],
   "source": [
    "groups_sleep = [group['Sleep'].dropna().values for name, group in breed_df.groupby('Fur_colour_dominant')]\n",
    "h_stat_sleep, p_val_sleep = stats.kruskal(*groups_sleep)\n",
    "print(f\"Kruskal-Wallis test for Sleep: H = {h_stat_sleep:.3f}, p = {p_val_sleep:.4f}\")"
   ]
  },
  {
   "cell_type": "markdown",
   "metadata": {},
   "source": [
    "# This confirms that the diffrences in sleep time means are statistcally significant."
   ]
  },
  {
   "cell_type": "code",
   "execution_count": null,
   "metadata": {},
   "outputs": [],
   "source": []
  }
 ],
 "metadata": {
  "kernelspec": {
   "display_name": "base",
   "language": "python",
   "name": "python3"
  },
  "language_info": {
   "codemirror_mode": {
    "name": "ipython",
    "version": 3
   },
   "file_extension": ".py",
   "mimetype": "text/x-python",
   "name": "python",
   "nbconvert_exporter": "python",
   "pygments_lexer": "ipython3",
   "version": "3.12.7"
  }
 },
 "nbformat": 4,
 "nbformat_minor": 2
}
